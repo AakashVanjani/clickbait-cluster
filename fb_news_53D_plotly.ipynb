{
 "cells": [
  {
   "cell_type": "markdown",
   "metadata": {
    "collapsed": true
   },
   "source": [
    "# Visualizing Clusters of Clickbait Headlines Using R and Plotly\n",
    "\n",
    "by Max Woolf (@minimaxir)\n",
    "\n",
    "*This notebook is licensed under the MIT License. If you use the code or data visualization designs contained within this notebook, it would be greatly appreciated if proper attribution is given back to this notebook and/or myself. Thanks! :)*"
   ]
  },
  {
   "cell_type": "code",
   "execution_count": 1,
   "metadata": {
    "collapsed": false
   },
   "outputs": [
    {
     "name": "stderr",
     "output_type": "stream",
     "text": [
      "\n",
      "Attaching package: ‘dplyr’\n",
      "\n",
      "The following objects are masked from ‘package:stats’:\n",
      "\n",
      "    filter, lag\n",
      "\n",
      "The following objects are masked from ‘package:base’:\n",
      "\n",
      "    intersect, setdiff, setequal, union\n",
      "\n",
      "Registering fonts with R\n",
      "\n",
      "Attaching package: ‘scales’\n",
      "\n",
      "The following objects are masked from ‘package:readr’:\n",
      "\n",
      "    col_factor, col_numeric\n",
      "\n",
      "\n",
      "Attaching package: ‘plotly’\n",
      "\n",
      "The following object is masked _by_ ‘.GlobalEnv’:\n",
      "\n",
      "    subplot\n",
      "\n",
      "The following object is masked from ‘package:ggplot2’:\n",
      "\n",
      "    last_plot\n",
      "\n",
      "The following object is masked from ‘package:graphics’:\n",
      "\n",
      "    layout\n",
      "\n"
     ]
    },
    {
     "data": {
      "text/plain": [
       "R version 3.3.0 (2016-05-03)\n",
       "Platform: x86_64-apple-darwin13.4.0 (64-bit)\n",
       "Running under: OS X 10.11.6 (El Capitan)\n",
       "\n",
       "locale:\n",
       "[1] en_US.UTF-8/en_US.UTF-8/en_US.UTF-8/C/en_US.UTF-8/en_US.UTF-8\n",
       "\n",
       "attached base packages:\n",
       "[1] grid      stats     graphics  grDevices utils     datasets  methods  \n",
       "[8] base     \n",
       "\n",
       "other attached packages:\n",
       " [1] plotly_3.6.0       tsne_0.1-3         tidyr_0.5.1        htmlwidgets_0.7   \n",
       " [5] stringr_1.0.0      digest_0.6.10      RColorBrewer_1.1-2 scales_0.4.0      \n",
       " [9] extrafont_0.17     ggplot2_2.1.0      dplyr_0.5.0        readr_0.2.2       \n",
       "\n",
       "loaded via a namespace (and not attached):\n",
       " [1] Rcpp_0.12.6      Rttf2pt1_1.3.3   magrittr_1.5     munsell_0.4.3   \n",
       " [5] uuid_0.1-2       colorspace_1.2-6 R6_2.1.2         httr_1.2.1      \n",
       " [9] plyr_1.8.4       tools_3.3.0      gtable_0.2.0     DBI_0.4-1       \n",
       "[13] extrafontdb_1.0  htmltools_0.3.5  assertthat_0.1   tibble_1.1      \n",
       "[17] gridExtra_2.2.1  IRdisplay_0.3    repr_0.4         viridis_0.3.4   \n",
       "[21] base64enc_0.1-3  IRkernel_0.5     evaluate_0.9     rzmq_0.7.7      \n",
       "[25] stringi_1.1.1    jsonlite_1.0    "
      ]
     },
     "execution_count": 1,
     "metadata": {},
     "output_type": "execute_result"
    }
   ],
   "source": [
    "options(warn=1)\n",
    "\n",
    "source(\"Rstart.R\")\n",
    "\n",
    "\n",
    "library(htmlwidgets)\n",
    "library(tidyr)\n",
    "library(tsne)\n",
    "#library(crosstalk)   # Does not work unfortunately\n",
    "library(plotly)\n",
    "\n",
    "sessionInfo()"
   ]
  },
  {
   "cell_type": "code",
   "execution_count": 12,
   "metadata": {
    "collapsed": false
   },
   "outputs": [
    {
     "name": "stdout",
     "output_type": "stream",
     "text": [
      "# A tibble: 6 x 6\n",
      "  page_id                    status_id\n",
      "    <chr>                        <chr>\n",
      "1     CNN 5550296508_10155163822816509\n",
      "2     CNN 5550296508_10155163797056509\n",
      "3     CNN 5550296508_10155163796576509\n",
      "4     CNN 5550296508_10155163760831509\n",
      "5     CNN 5550296508_10155163747646509\n",
      "6     CNN 5550296508_10155163713601509\n",
      "# ... with 4 more variables: link_name <chr>, status_published <time>,\n",
      "#   num_reactions <int>, merged_vectors <chr>\n"
     ]
    }
   ],
   "source": [
    "df <- read_csv('fb_headlines_53D.csv')\n",
    "\n",
    "df %>% head() %>% print()"
   ]
  },
  {
   "cell_type": "code",
   "execution_count": 13,
   "metadata": {
    "collapsed": false
   },
   "outputs": [
    {
     "name": "stdout",
     "output_type": "stream",
     "text": [
      "[1] \"w2v_1\" \"w2v_2\" \"w2v_3\" \"w2v_4\" \"w2v_5\" \"w2v_6\"\n"
     ]
    },
    {
     "data": {
      "text/html": [
       "'0.0, 1.0, 0.0, -0.0295360057022, -0.0385206133466, -0.0999715311283, 0.132127107481, 0.0107010421766, -0.106567047409, -0.0667190785435, 0.0138946488838, -0.0156326108951, -0.0111148231187, -0.0441564022648, -0.0473339774392, 0.0165593211793, -0.0111471568658, -0.0447140485048, -0.153906485912, -0.0334809110077, -0.0117263736373, 0.0247876940464, -0.0207398915663, -0.0774159871719, 0.0772011124275, 0.0223193232139, -0.0420626234687, 0.0174226334149, 0.0499060681852, -0.0602193133144, -0.0477933429859, -0.0718518725956, -0.0435076735236, -0.0542486848056, -0.000714064808562, -0.0394086201083, 0.0241412561048, 0.0820442416113, -0.0183774399656, -0.0349638340148, 0.0695643852364, 0.00212238301438, -0.0448326128535, 0.0740370644172, -0.0128972084177, -0.00299597361167, -0.00147507923909, 0.050402269106, 0.0988262952729, 0.0218393209983, 0.043418047865, -0.0397821898911, 0.00126350340857'"
      ],
      "text/latex": [
       "'0.0, 1.0, 0.0, -0.0295360057022, -0.0385206133466, -0.0999715311283, 0.132127107481, 0.0107010421766, -0.106567047409, -0.0667190785435, 0.0138946488838, -0.0156326108951, -0.0111148231187, -0.0441564022648, -0.0473339774392, 0.0165593211793, -0.0111471568658, -0.0447140485048, -0.153906485912, -0.0334809110077, -0.0117263736373, 0.0247876940464, -0.0207398915663, -0.0774159871719, 0.0772011124275, 0.0223193232139, -0.0420626234687, 0.0174226334149, 0.0499060681852, -0.0602193133144, -0.0477933429859, -0.0718518725956, -0.0435076735236, -0.0542486848056, -0.000714064808562, -0.0394086201083, 0.0241412561048, 0.0820442416113, -0.0183774399656, -0.0349638340148, 0.0695643852364, 0.00212238301438, -0.0448326128535, 0.0740370644172, -0.0128972084177, -0.00299597361167, -0.00147507923909, 0.050402269106, 0.0988262952729, 0.0218393209983, 0.043418047865, -0.0397821898911, 0.00126350340857'"
      ],
      "text/markdown": [
       "'0.0, 1.0, 0.0, -0.0295360057022, -0.0385206133466, -0.0999715311283, 0.132127107481, 0.0107010421766, -0.106567047409, -0.0667190785435, 0.0138946488838, -0.0156326108951, -0.0111148231187, -0.0441564022648, -0.0473339774392, 0.0165593211793, -0.0111471568658, -0.0447140485048, -0.153906485912, -0.0334809110077, -0.0117263736373, 0.0247876940464, -0.0207398915663, -0.0774159871719, 0.0772011124275, 0.0223193232139, -0.0420626234687, 0.0174226334149, 0.0499060681852, -0.0602193133144, -0.0477933429859, -0.0718518725956, -0.0435076735236, -0.0542486848056, -0.000714064808562, -0.0394086201083, 0.0241412561048, 0.0820442416113, -0.0183774399656, -0.0349638340148, 0.0695643852364, 0.00212238301438, -0.0448326128535, 0.0740370644172, -0.0128972084177, -0.00299597361167, -0.00147507923909, 0.050402269106, 0.0988262952729, 0.0218393209983, 0.043418047865, -0.0397821898911, 0.00126350340857'"
      ],
      "text/plain": [
       "[1] \"0.0, 1.0, 0.0, -0.0295360057022, -0.0385206133466, -0.0999715311283, 0.132127107481, 0.0107010421766, -0.106567047409, -0.0667190785435, 0.0138946488838, -0.0156326108951, -0.0111148231187, -0.0441564022648, -0.0473339774392, 0.0165593211793, -0.0111471568658, -0.0447140485048, -0.153906485912, -0.0334809110077, -0.0117263736373, 0.0247876940464, -0.0207398915663, -0.0774159871719, 0.0772011124275, 0.0223193232139, -0.0420626234687, 0.0174226334149, 0.0499060681852, -0.0602193133144, -0.0477933429859, -0.0718518725956, -0.0435076735236, -0.0542486848056, -0.000714064808562, -0.0394086201083, 0.0241412561048, 0.0820442416113, -0.0183774399656, -0.0349638340148, 0.0695643852364, 0.00212238301438, -0.0448326128535, 0.0740370644172, -0.0128972084177, -0.00299597361167, -0.00147507923909, 0.050402269106, 0.0988262952729, 0.0218393209983, 0.043418047865, -0.0397821898911, 0.00126350340857\""
      ]
     },
     "execution_count": 13,
     "metadata": {},
     "output_type": "execute_result"
    }
   ],
   "source": [
    "vector_names = paste0('w2v_', 1:53)\n",
    "\n",
    "vector_trim <- function(vector)\n",
    "    substr(vector, 2, nchar(vector)-1)\n",
    "\n",
    "vector_names %>% head() %>% print()\n",
    "vector_trim(df$merged_vectors[1])"
   ]
  },
  {
   "cell_type": "code",
   "execution_count": 14,
   "metadata": {
    "collapsed": false
   },
   "outputs": [
    {
     "name": "stdout",
     "output_type": "stream",
     "text": [
      "# A tibble: 6 x 4\n",
      "  w2v_1 w2v_2 w2v_3        w2v_4\n",
      "  <dbl> <dbl> <dbl>        <dbl>\n",
      "1     0     1     0 -0.029536006\n",
      "2     0     1     0  0.008397121\n",
      "3     0     1     0 -0.045302893\n",
      "4     0     1     0 -0.039918742\n",
      "5     0     1     0 -0.041991464\n",
      "6     0     1     0 -0.046025169\n"
     ]
    }
   ],
   "source": [
    "df$merged_vectors = lapply(df$merged_vectors, vector_trim)\n",
    "\n",
    "df <- separate(data = df, col = merged_vectors, into = vector_names, convert=T, sep = \",\")\n",
    "\n",
    "df %>% select(w2v_1:w2v_4) %>% head() %>% print()"
   ]
  },
  {
   "cell_type": "markdown",
   "metadata": {},
   "source": [
    "This will take a very, very long time."
   ]
  },
  {
   "cell_type": "code",
   "execution_count": 15,
   "metadata": {
    "collapsed": false,
    "scrolled": true
   },
   "outputs": [
    {
     "name": "stderr",
     "output_type": "stream",
     "text": [
      "sigma summary: Min. : 2.98e-08 |1st Qu. : 0.4972 |Median : 0.5505 |Mean : 0.6062 |3rd Qu. : 0.6534 |Max. : 1.602 |\n",
      "Epoch: Iteration #50 error is: 22.6931190265602\n",
      "Epoch: Iteration #100 error is: 22.5340438633914\n",
      "Epoch: Iteration #150 error is: 2.85954740967973\n",
      "Epoch: Iteration #200 error is: 2.54754332470592\n",
      "Epoch: Iteration #250 error is: 2.4017312366903\n",
      "Epoch: Iteration #300 error is: 2.22656455410785\n",
      "Epoch: Iteration #350 error is: 2.13140040113128\n",
      "Epoch: Iteration #400 error is: 2.07159763903534\n",
      "Epoch: Iteration #450 error is: 2.02963431041514\n",
      "Epoch: Iteration #500 error is: 1.99813060715731\n",
      "Epoch: Iteration #550 error is: 1.97330883995303\n",
      "Epoch: Iteration #600 error is: 1.95320547606506\n",
      "Epoch: Iteration #650 error is: 1.93655699300747\n",
      "Epoch: Iteration #700 error is: 1.92246268080483\n",
      "Epoch: Iteration #750 error is: 1.91031431549613\n",
      "Epoch: Iteration #800 error is: 1.89978083538389\n",
      "Epoch: Iteration #850 error is: 1.8905105349365\n",
      "Epoch: Iteration #900 error is: 1.88227733304293\n",
      "Epoch: Iteration #950 error is: 1.87491552364582\n",
      "Epoch: Iteration #1000 error is: 1.86829839241662\n"
     ]
    },
    {
     "data": {
      "text/plain": [
       "    user   system  elapsed \n",
       "14417.74 10045.16 29550.69 "
      ]
     },
     "execution_count": 15,
     "metadata": {},
     "output_type": "execute_result"
    }
   ],
   "source": [
    "matrix <- df %>% select(w2v_1:w2v_53) %>% as.matrix()\n",
    "\n",
    "system.time( cluster_coords <- tsne(matrix, initial_dims=53, perplexity=50, epoch=50) )"
   ]
  },
  {
   "cell_type": "markdown",
   "metadata": {},
   "source": [
    "8.2 Hours!"
   ]
  },
  {
   "cell_type": "code",
   "execution_count": 16,
   "metadata": {
    "collapsed": false
   },
   "outputs": [
    {
     "name": "stdout",
     "output_type": "stream",
     "text": [
      "          [,1]       [,2]\n",
      "[1,] -26.29485  -6.132532\n",
      "[2,] -52.90633 -55.677870\n",
      "[3,] -33.27932 -12.286431\n",
      "[4,] -28.99210  23.270245\n",
      "[5,] -17.15817  16.288898\n",
      "[6,]  40.21769 -21.949683\n"
     ]
    }
   ],
   "source": [
    "cluster_coords %>% head() %>% print()"
   ]
  },
  {
   "cell_type": "code",
   "execution_count": 17,
   "metadata": {
    "collapsed": false
   },
   "outputs": [
    {
     "name": "stdout",
     "output_type": "stream",
     "text": [
      "# A tibble: 6 x 3\n",
      "                     status_id         x          y\n",
      "                         <chr>     <dbl>      <dbl>\n",
      "1 5550296508_10155163822816509 -26.29485  -6.132532\n",
      "2 5550296508_10155163797056509 -52.90633 -55.677870\n",
      "3 5550296508_10155163796576509 -33.27932 -12.286431\n",
      "4 5550296508_10155163760831509 -28.99210  23.270245\n",
      "5 5550296508_10155163747646509 -17.15817  16.288898\n",
      "6 5550296508_10155163713601509  40.21769 -21.949683\n"
     ]
    }
   ],
   "source": [
    "df_transform = df %>% select(page_id, status_id, link_name, status_published, num_reactions) %>%\n",
    "                mutate(x = cluster_coords[,1], y= cluster_coords[,2])\n",
    "\n",
    "df_transform %>% select(status_id, x, y) %>% head() %>% print()"
   ]
  },
  {
   "cell_type": "code",
   "execution_count": 18,
   "metadata": {
    "collapsed": true
   },
   "outputs": [],
   "source": [
    "write.csv(df_transform, \"df_transform_53D.csv\", row.names=F)\n"
   ]
  },
  {
   "cell_type": "markdown",
   "metadata": {},
   "source": [
    "## Make the plot\n",
    "\n",
    "Prototype using ggplot2"
   ]
  },
  {
   "cell_type": "code",
   "execution_count": 90,
   "metadata": {
    "collapsed": false
   },
   "outputs": [
    {
     "name": "stdout",
     "output_type": "stream",
     "text": [
      "# A tibble: 6 x 3\n",
      "             link_name         x          y\n",
      "                 <chr>     <dbl>      <dbl>\n",
      "1 Joseph Schooling bea -26.29485  -6.132532\n",
      "2 Bill Clinton: Email  -52.90633 -55.677870\n",
      "3 Hacker releases cell -33.27932 -12.286431\n",
      "4 Lionel Messi announc -28.99210  23.270245\n",
      "5 Fighting the male bi -17.15817  16.288898\n",
      "6 The face of the Olym  40.21769 -21.949683\n"
     ]
    }
   ],
   "source": [
    "df_plot <- read_csv(\"df_transform_53D.csv\")\n",
    "\n",
    "df_plot %>% select(link_name, x, y) %>% mutate(link_name = substr(link_name,1,20)) %>% head() %>% print()"
   ]
  },
  {
   "cell_type": "code",
   "execution_count": 93,
   "metadata": {
    "collapsed": false
   },
   "outputs": [],
   "source": [
    "plot <- ggplot(df_plot, aes(x=x, y=y, color=page_id)) +\n",
    "            geom_point(alpha=0.75, stroke=0) + \n",
    "            theme_bw()\n",
    "\n",
    "ggsave(\"fb-headlines-cluster-test-53D.png\", plot, width=4, height=3, dpi=300)"
   ]
  },
  {
   "cell_type": "markdown",
   "metadata": {},
   "source": [
    "![](fb-headlines-cluster-test-53D.png)"
   ]
  },
  {
   "cell_type": "markdown",
   "metadata": {},
   "source": [
    "Prototype using plotly's scattergl"
   ]
  },
  {
   "cell_type": "code",
   "execution_count": 13,
   "metadata": {
    "collapsed": false
   },
   "outputs": [],
   "source": [
    "p <- plot_ly(df_plot,\n",
    "             x = x,\n",
    "             y = y,\n",
    "             color=page_id,\n",
    "             type = \"scattergl\",\n",
    "             mode = \"markers\",\n",
    "             marker = list(line = list(width = 0), opacity=0.75, size=6),\n",
    "             text=link_name)\n",
    "\n",
    "createWidget(name=\"plotly\",x=plotly_build(p), sizingPolicy=sizingPolicy(browser.padding = 0, \n",
    "            browser.fill = F, defaultWidth = \"100%\", defaultHeight = 400)) %>%\n",
    "saveWidget(\"fb-headlines-cluster-test-53D.html\", selfcontained=T, libdir=\"plotly\")"
   ]
  },
  {
   "cell_type": "markdown",
   "metadata": {
    "collapsed": true
   },
   "source": [
    "Generate custom text for tooltips (note: this was not used since it made charts harder to read)"
   ]
  },
  {
   "cell_type": "code",
   "execution_count": 76,
   "metadata": {
    "collapsed": false
   },
   "outputs": [
    {
     "data": {
      "text/html": [
       "\"Joseph Schooling beats Michael Phelps to claim Singapore's first Olympic gold<br>3,508 Reactions<br>August 12, 2016\""
      ],
      "text/latex": [
       "\"Joseph Schooling beats Michael Phelps to claim Singapore's first Olympic gold<br>3,508 Reactions<br>August 12, 2016\""
      ],
      "text/markdown": [
       "\"Joseph Schooling beats Michael Phelps to claim Singapore's first Olympic gold<br>3,508 Reactions<br>August 12, 2016\""
      ],
      "text/plain": [
       "[1] \"Joseph Schooling beats Michael Phelps to claim Singapore's first Olympic gold<br>3,508 Reactions<br>August 12, 2016\""
      ]
     },
     "execution_count": 76,
     "metadata": {},
     "output_type": "execute_result"
    }
   ],
   "source": [
    "processText <- function(row) {\n",
    "    sprintf(\"%s<br>%s Reactions<br>%s\",\n",
    "            row[3],\n",
    "            format(as.numeric(row[5]), big.mark=\",\"),\n",
    "            format(as.Date(substr(row[4], 1, 10) ), format = \"%B %d, %Y\" )) \n",
    "                    }\n",
    "\n",
    "apply(df_plot[1,], 1, processText)"
   ]
  },
  {
   "cell_type": "code",
   "execution_count": 77,
   "metadata": {
    "collapsed": false
   },
   "outputs": [],
   "source": [
    "df_plot$text = apply(df_plot, 1, processText)"
   ]
  },
  {
   "cell_type": "markdown",
   "metadata": {},
   "source": [
    "Plot the real plotly chart, with layout options to remove the axes."
   ]
  },
  {
   "cell_type": "code",
   "execution_count": 86,
   "metadata": {
    "collapsed": false
   },
   "outputs": [],
   "source": [
    "# https://plot.ly/r/axes/\n",
    "\n",
    "ax <- list(\n",
    "  title = \"\",\n",
    "  zeroline = FALSE,\n",
    "  showline = FALSE,\n",
    "  showticklabels = FALSE,\n",
    "  showgrid = FALSE\n",
    ")\n",
    "\n",
    "m = list(\n",
    "  l = 0,\n",
    "  r = 0,\n",
    "  b = 0,\n",
    "  t = 25,\n",
    "  pad = 0\n",
    ")\n",
    "\n",
    "\n",
    "p <- plot_ly(df_plot,\n",
    "             x = x,\n",
    "             y = y,\n",
    "             color=page_id,\n",
    "             type = \"scattergl\",\n",
    "             mode = \"markers\",\n",
    "             marker = list(line = list(width = 0), opacity=0.75, size=6),\n",
    "             text=link_name,\n",
    "            hoverinfo=\"text+name\") %>% layout(xaxis = ax, yaxis = ax, margin=m)\n",
    "\n",
    "createWidget(name=\"plotly\",x=plotly_build(p), sizingPolicy=sizingPolicy(browser.padding = 0, \n",
    "            browser.fill = F, defaultWidth = \"100%\", defaultHeight = 400)) %>%\n",
    "saveWidget(\"fb-headlines-cluster-standalone.html\", selfcontained=T, libdir=\"plotly\")"
   ]
  },
  {
   "cell_type": "markdown",
   "metadata": {},
   "source": [
    "Tweak plot slightly for blog post proper."
   ]
  },
  {
   "cell_type": "code",
   "execution_count": 107,
   "metadata": {
    "collapsed": false
   },
   "outputs": [],
   "source": [
    "font <- list(\n",
    "        family='Source Sans Pro, Arial, sans-serif'\n",
    "    )\n",
    "\n",
    "p <- plot_ly(df_plot,\n",
    "             x = x,\n",
    "             y = y,\n",
    "             color=page_id,\n",
    "             type = \"scattergl\",\n",
    "             mode = \"markers\",\n",
    "             marker = list(line = list(width = 0), opacity=0.75, size=6),\n",
    "             text=link_name,\n",
    "            hoverinfo=\"text+name\") %>% layout(xaxis = ax,\n",
    "                                              yaxis = ax,\n",
    "                                              margin=m,\n",
    "                                              font=font,\n",
    "                                              plot_bgcolor ='#f7f8fa',\n",
    "                                              paper_bgcolor='#f7f8fa')\n",
    "\n",
    "createWidget(name=\"plotly\",x=plotly_build(p), sizingPolicy=sizingPolicy(browser.padding = 0, \n",
    "            browser.fill = F, defaultWidth = \"100%\", defaultHeight = 400)) %>%\n",
    "saveWidget(\"fb-headlines-cluster-web.html\", selfcontained=T, libdir=\"plotly\")"
   ]
  },
  {
   "cell_type": "markdown",
   "metadata": {},
   "source": [
    "# The MIT License (MIT)\n",
    "\n",
    "Copyright (c) 2016 Max Woolf\n",
    "\n",
    "Permission is hereby granted, free of charge, to any person obtaining a copy of this software and associated documentation files (the \"Software\"), to deal in the Software without restriction, including without limitation the rights to use, copy, modify, merge, publish, distribute, sublicense, and/or sell copies of the Software, and to permit persons to whom the Software is furnished to do so, subject to the following conditions:\n",
    "\n",
    "The above copyright notice and this permission notice shall be included in all copies or substantial portions of the Software.\n",
    "\n",
    "THE SOFTWARE IS PROVIDED \"AS IS\", WITHOUT WARRANTY OF ANY KIND, EXPRESS OR IMPLIED, INCLUDING BUT NOT LIMITED TO THE WARRANTIES OF MERCHANTABILITY, FITNESS FOR A PARTICULAR PURPOSE AND NONINFRINGEMENT. IN NO EVENT SHALL THE AUTHORS OR COPYRIGHT HOLDERS BE LIABLE FOR ANY CLAIM, DAMAGES OR OTHER LIABILITY, WHETHER IN AN ACTION OF CONTRACT, TORT OR OTHERWISE, ARISING FROM, OUT OF OR IN CONNECTION WITH THE SOFTWARE OR THE USE OR OTHER DEALINGS IN THE SOFTWARE."
   ]
  }
 ],
 "metadata": {
  "kernelspec": {
   "display_name": "R",
   "language": "R",
   "name": "ir"
  },
  "language_info": {
   "codemirror_mode": "r",
   "file_extension": ".r",
   "mimetype": "text/x-r-source",
   "name": "R",
   "pygments_lexer": "r",
   "version": "3.3.0"
  }
 },
 "nbformat": 4,
 "nbformat_minor": 0
}
